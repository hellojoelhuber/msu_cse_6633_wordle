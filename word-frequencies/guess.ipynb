{
 "cells": [
  {
   "cell_type": "markdown",
   "id": "a45f792f",
   "metadata": {
    "papermill": {
     "duration": 0.011692,
     "end_time": "2022-03-19T04:15:04.742680",
     "exception": false,
     "start_time": "2022-03-19T04:15:04.730988",
     "status": "completed"
    },
    "tags": []
   },
   "source": [
    "## Code to get word profile numbers"
   ]
  },
  {
   "cell_type": "markdown",
   "id": "10c02177",
   "metadata": {
    "papermill": {
     "duration": 0.010984,
     "end_time": "2022-03-19T04:15:04.763830",
     "exception": false,
     "start_time": "2022-03-19T04:15:04.752846",
     "status": "completed"
    },
    "tags": []
   },
   "source": [
    "Importing the packages we need"
   ]
  },
  {
   "cell_type": "code",
   "execution_count": 19,
   "id": "77f44ead",
   "metadata": {
    "_cell_guid": "b1076dfc-b9ad-4769-8c92-a6c4dae69d19",
    "_uuid": "8f2839f25d086af736a60e9eeb907d3b93b6e0e5",
    "execution": {
     "iopub.execute_input": "2022-03-19T04:15:04.794673Z",
     "iopub.status.busy": "2022-03-19T04:15:04.794024Z",
     "iopub.status.idle": "2022-03-19T04:15:05.046180Z",
     "shell.execute_reply": "2022-03-19T04:15:05.046569Z",
     "shell.execute_reply.started": "2022-02-18T16:20:44.471885Z"
    },
    "papermill": {
     "duration": 0.273678,
     "end_time": "2022-03-19T04:15:05.046797",
     "exception": false,
     "start_time": "2022-03-19T04:15:04.773119",
     "status": "completed"
    },
    "tags": []
   },
   "outputs": [],
   "source": [
    "import numpy as np\n",
    "import pandas as pd"
   ]
  },
  {
   "cell_type": "code",
   "execution_count": 20,
   "id": "f008f251",
   "metadata": {},
   "outputs": [
    {
     "name": "stdout",
     "output_type": "stream",
     "text": [
      "genro\n",
      "genor\n",
      "gerno\n",
      "geron\n",
      "geonr\n",
      "georn\n",
      "gnero\n",
      "gneor\n",
      "gnreo\n",
      "gnroe\n",
      "gnoer\n",
      "gnore\n",
      "greno\n",
      "greon\n",
      "grneo\n",
      "grnoe\n",
      "groen\n",
      "grone\n",
      "goenr\n",
      "goern\n",
      "goner\n",
      "gonre\n",
      "goren\n",
      "gorne\n",
      "egnro\n",
      "egnor\n",
      "egrno\n",
      "egron\n",
      "egonr\n",
      "egorn\n",
      "engro\n",
      "engor\n",
      "enrgo\n",
      "enrog\n",
      "enogr\n",
      "enorg\n",
      "ergno\n",
      "ergon\n",
      "erngo\n",
      "ernog\n",
      "erogn\n",
      "erong\n",
      "eognr\n",
      "eogrn\n",
      "eongr\n",
      "eonrg\n",
      "eorgn\n",
      "eorng\n",
      "ngero\n",
      "ngeor\n",
      "ngreo\n",
      "ngroe\n",
      "ngoer\n",
      "ngore\n",
      "negro\n",
      "negor\n",
      "nergo\n",
      "nerog\n",
      "neogr\n",
      "neorg\n",
      "nrgeo\n",
      "nrgoe\n",
      "nrego\n",
      "nreog\n",
      "nroge\n",
      "nroeg\n",
      "noger\n",
      "nogre\n",
      "noegr\n",
      "noerg\n",
      "norge\n",
      "noreg\n",
      "rgeno\n",
      "rgeon\n",
      "rgneo\n",
      "rgnoe\n",
      "rgoen\n",
      "rgone\n",
      "regno\n",
      "regon\n",
      "rengo\n",
      "renog\n",
      "reogn\n",
      "reong\n",
      "rngeo\n",
      "rngoe\n",
      "rnego\n",
      "rneog\n",
      "rnoge\n",
      "rnoeg\n",
      "rogen\n",
      "rogne\n",
      "roegn\n",
      "roeng\n",
      "ronge\n",
      "roneg\n",
      "ogenr\n",
      "ogern\n",
      "ogner\n",
      "ognre\n",
      "ogren\n",
      "ogrne\n",
      "oegnr\n",
      "oegrn\n",
      "oengr\n",
      "oenrg\n",
      "oergn\n",
      "oerng\n",
      "onger\n",
      "ongre\n",
      "onegr\n",
      "onerg\n",
      "onrge\n",
      "onreg\n",
      "orgen\n",
      "orgne\n",
      "oregn\n",
      "oreng\n",
      "ornge\n",
      "orneg\n"
     ]
    }
   ],
   "source": [
    "import itertools\n",
    "from contextlib import redirect_stdout\n",
    "s='genro'\n",
    "t=list(itertools.permutations(s,5))\n",
    "for i in range(0,len(t)):\n",
    "    print (''.join(t[i]))\n",
    "    print(''.join(t[i]), file=open(\"output.txt\", \"a\"))"
   ]
  },
  {
   "cell_type": "code",
   "execution_count": 21,
   "id": "bbb65074",
   "metadata": {},
   "outputs": [],
   "source": [
    "def readB(x):\n",
    " with open('wordle_nyt_dicts.txt') as resultFile:\n",
    "    for line in resultFile:\n",
    "        if x in line:\n",
    "            print (x)\n",
    "\n",
    "\n",
    "def readA():\n",
    "    with open('output.txt') as bondNumberFile:\n",
    "        for line in bondNumberFile:\n",
    "            readB(line.rstrip())\n",
    "\n"
   ]
  },
  {
   "cell_type": "code",
   "execution_count": 22,
   "id": "55bef574",
   "metadata": {},
   "outputs": [
    {
     "name": "stdout",
     "output_type": "stream",
     "text": [
      "genro\n",
      "grone\n",
      "goner\n",
      "ergon\n",
      "negro\n"
     ]
    }
   ],
   "source": [
    "readA()"
   ]
  },
  {
   "cell_type": "code",
   "execution_count": null,
   "id": "52689818",
   "metadata": {},
   "outputs": [],
   "source": []
  }
 ],
 "metadata": {
  "kernelspec": {
   "display_name": "Python 3",
   "language": "python",
   "name": "python3"
  },
  "language_info": {
   "codemirror_mode": {
    "name": "ipython",
    "version": 3
   },
   "file_extension": ".py",
   "mimetype": "text/x-python",
   "name": "python",
   "nbconvert_exporter": "python",
   "pygments_lexer": "ipython3",
   "version": "3.8.8"
  },
  "papermill": {
   "default_parameters": {},
   "duration": 4222.195563,
   "end_time": "2022-03-19T05:25:19.039869",
   "environment_variables": {},
   "exception": null,
   "input_path": "__notebook__.ipynb",
   "output_path": "__notebook__.ipynb",
   "parameters": {},
   "start_time": "2022-03-19T04:14:56.844306",
   "version": "2.3.3"
  }
 },
 "nbformat": 4,
 "nbformat_minor": 5
}
